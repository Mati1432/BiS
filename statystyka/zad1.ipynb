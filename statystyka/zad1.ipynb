{
 "cells": [
  {
   "cell_type": "code",
   "execution_count": 120,
   "metadata": {
    "collapsed": true
   },
   "outputs": [],
   "source": [
    "import urllib.request\n",
    "import pandas as pd\n",
    "import statistics\n",
    "from scipy import stats\n",
    "import matplotlib.pyplot as plt"
   ]
  },
  {
   "cell_type": "markdown",
   "source": [
    "### Zadanie 1"
   ],
   "metadata": {
    "collapsed": false
   }
  },
  {
   "cell_type": "code",
   "execution_count": 121,
   "outputs": [
    {
     "data": {
      "text/plain": "('mdr_estimates.csv', <http.client.HTTPMessage at 0x2737b28a3e0>)"
     },
     "execution_count": 121,
     "metadata": {},
     "output_type": "execute_result"
    }
   ],
   "source": [
    "url = 'https://extranet.who.int/tme/generateCSV.asp?ds=mdr_estimates'\n",
    "urllib.request.urlretrieve(url, 'mdr_estimates.csv')"
   ],
   "metadata": {
    "collapsed": false
   }
  },
  {
   "cell_type": "code",
   "execution_count": 122,
   "outputs": [
    {
     "data": {
      "text/plain": "       country iso2 iso3  iso_numeric g_whoregion  year source_rr_new  \\\n0  Afghanistan   AF  AFG            4         EMR  2015         Model   \n1  Afghanistan   AF  AFG            4         EMR  2016         Model   \n2  Afghanistan   AF  AFG            4         EMR  2017         Model   \n3  Afghanistan   AF  AFG            4         EMR  2018         Model   \n4  Afghanistan   AF  AFG            4         EMR  2019         Model   \n\n   e_rr_pct_new  e_rr_pct_new_lo  e_rr_pct_new_hi source_rr_ret  e_rr_pct_ret  \\\n0           5.1             0.45             19.0  Surveillance           8.6   \n1           5.1             0.50             20.0  Surveillance          11.0   \n2           5.2             0.53             19.0  Surveillance          15.0   \n3           5.2             0.54             20.0  Surveillance          19.0   \n4           5.3             0.55             20.0  Surveillance          24.0   \n\n   e_rr_pct_ret_lo  e_rr_pct_ret_hi  e_inc_rr_num  e_inc_rr_num_lo  \\\n0              6.5             11.0          3600                0   \n1              9.4             14.0          3800                0   \n2             13.0             16.0          3900                0   \n3             17.0             20.0          4100                0   \n4             21.0             26.0          4300                0   \n\n   e_inc_rr_num_hi  \n0            10000  \n1            11000  \n2            11000  \n3            12000  \n4            12000  ",
      "text/html": "<div>\n<style scoped>\n    .dataframe tbody tr th:only-of-type {\n        vertical-align: middle;\n    }\n\n    .dataframe tbody tr th {\n        vertical-align: top;\n    }\n\n    .dataframe thead th {\n        text-align: right;\n    }\n</style>\n<table border=\"1\" class=\"dataframe\">\n  <thead>\n    <tr style=\"text-align: right;\">\n      <th></th>\n      <th>country</th>\n      <th>iso2</th>\n      <th>iso3</th>\n      <th>iso_numeric</th>\n      <th>g_whoregion</th>\n      <th>year</th>\n      <th>source_rr_new</th>\n      <th>e_rr_pct_new</th>\n      <th>e_rr_pct_new_lo</th>\n      <th>e_rr_pct_new_hi</th>\n      <th>source_rr_ret</th>\n      <th>e_rr_pct_ret</th>\n      <th>e_rr_pct_ret_lo</th>\n      <th>e_rr_pct_ret_hi</th>\n      <th>e_inc_rr_num</th>\n      <th>e_inc_rr_num_lo</th>\n      <th>e_inc_rr_num_hi</th>\n    </tr>\n  </thead>\n  <tbody>\n    <tr>\n      <th>0</th>\n      <td>Afghanistan</td>\n      <td>AF</td>\n      <td>AFG</td>\n      <td>4</td>\n      <td>EMR</td>\n      <td>2015</td>\n      <td>Model</td>\n      <td>5.1</td>\n      <td>0.45</td>\n      <td>19.0</td>\n      <td>Surveillance</td>\n      <td>8.6</td>\n      <td>6.5</td>\n      <td>11.0</td>\n      <td>3600</td>\n      <td>0</td>\n      <td>10000</td>\n    </tr>\n    <tr>\n      <th>1</th>\n      <td>Afghanistan</td>\n      <td>AF</td>\n      <td>AFG</td>\n      <td>4</td>\n      <td>EMR</td>\n      <td>2016</td>\n      <td>Model</td>\n      <td>5.1</td>\n      <td>0.50</td>\n      <td>20.0</td>\n      <td>Surveillance</td>\n      <td>11.0</td>\n      <td>9.4</td>\n      <td>14.0</td>\n      <td>3800</td>\n      <td>0</td>\n      <td>11000</td>\n    </tr>\n    <tr>\n      <th>2</th>\n      <td>Afghanistan</td>\n      <td>AF</td>\n      <td>AFG</td>\n      <td>4</td>\n      <td>EMR</td>\n      <td>2017</td>\n      <td>Model</td>\n      <td>5.2</td>\n      <td>0.53</td>\n      <td>19.0</td>\n      <td>Surveillance</td>\n      <td>15.0</td>\n      <td>13.0</td>\n      <td>16.0</td>\n      <td>3900</td>\n      <td>0</td>\n      <td>11000</td>\n    </tr>\n    <tr>\n      <th>3</th>\n      <td>Afghanistan</td>\n      <td>AF</td>\n      <td>AFG</td>\n      <td>4</td>\n      <td>EMR</td>\n      <td>2018</td>\n      <td>Model</td>\n      <td>5.2</td>\n      <td>0.54</td>\n      <td>20.0</td>\n      <td>Surveillance</td>\n      <td>19.0</td>\n      <td>17.0</td>\n      <td>20.0</td>\n      <td>4100</td>\n      <td>0</td>\n      <td>12000</td>\n    </tr>\n    <tr>\n      <th>4</th>\n      <td>Afghanistan</td>\n      <td>AF</td>\n      <td>AFG</td>\n      <td>4</td>\n      <td>EMR</td>\n      <td>2019</td>\n      <td>Model</td>\n      <td>5.3</td>\n      <td>0.55</td>\n      <td>20.0</td>\n      <td>Surveillance</td>\n      <td>24.0</td>\n      <td>21.0</td>\n      <td>26.0</td>\n      <td>4300</td>\n      <td>0</td>\n      <td>12000</td>\n    </tr>\n  </tbody>\n</table>\n</div>"
     },
     "execution_count": 122,
     "metadata": {},
     "output_type": "execute_result"
    }
   ],
   "source": [
    "df = pd.read_csv('mdr_estimates.csv')\n",
    "df.head()"
   ],
   "metadata": {
    "collapsed": false
   }
  },
  {
   "cell_type": "code",
   "execution_count": 123,
   "outputs": [],
   "source": [
    "column = df['e_rr_pct_ret_hi']"
   ],
   "metadata": {
    "collapsed": false
   }
  },
  {
   "cell_type": "code",
   "execution_count": 124,
   "outputs": [],
   "source": [
    "mean = column.mean()\n",
    "median = column.median()\n",
    "mode = column.mode()\n",
    "min_value = column.min()\n",
    "max_value = column.max()"
   ],
   "metadata": {
    "collapsed": false
   }
  },
  {
   "cell_type": "code",
   "execution_count": 125,
   "outputs": [
    {
     "name": "stdout",
     "output_type": "stream",
     "text": [
      "Średnia: 31.596042924211936\n",
      "Mediana: 26.0\n",
      "Moda: 0    14.0\n",
      "Name: e_rr_pct_ret_hi, dtype: float64\n",
      "Minimum: 3.2\n",
      "Maksimum: 91.0\n"
     ]
    }
   ],
   "source": [
    "print(f'Średnia: {mean}')\n",
    "print(f'Mediana: {median}')\n",
    "print(f'Moda: {mode}')\n",
    "print(f'Minimum: {min_value}')\n",
    "print(f'Maksimum: {max_value}')"
   ],
   "metadata": {
    "collapsed": false
   }
  },
  {
   "cell_type": "markdown",
   "source": [
    "### Zadanie 2"
   ],
   "metadata": {
    "collapsed": false
   }
  },
  {
   "cell_type": "code",
   "execution_count": 126,
   "outputs": [
    {
     "data": {
      "text/plain": "      0\n0   156\n1   158\n2   167\n3   188\n4   197\n5   167\n6   197\n7   178\n8   186\n9   157\n10  198\n11  199\n12  178\n13  168\n14  156\n15  151\n16  167\n17  167",
      "text/html": "<div>\n<style scoped>\n    .dataframe tbody tr th:only-of-type {\n        vertical-align: middle;\n    }\n\n    .dataframe tbody tr th {\n        vertical-align: top;\n    }\n\n    .dataframe thead th {\n        text-align: right;\n    }\n</style>\n<table border=\"1\" class=\"dataframe\">\n  <thead>\n    <tr style=\"text-align: right;\">\n      <th></th>\n      <th>0</th>\n    </tr>\n  </thead>\n  <tbody>\n    <tr>\n      <th>0</th>\n      <td>156</td>\n    </tr>\n    <tr>\n      <th>1</th>\n      <td>158</td>\n    </tr>\n    <tr>\n      <th>2</th>\n      <td>167</td>\n    </tr>\n    <tr>\n      <th>3</th>\n      <td>188</td>\n    </tr>\n    <tr>\n      <th>4</th>\n      <td>197</td>\n    </tr>\n    <tr>\n      <th>5</th>\n      <td>167</td>\n    </tr>\n    <tr>\n      <th>6</th>\n      <td>197</td>\n    </tr>\n    <tr>\n      <th>7</th>\n      <td>178</td>\n    </tr>\n    <tr>\n      <th>8</th>\n      <td>186</td>\n    </tr>\n    <tr>\n      <th>9</th>\n      <td>157</td>\n    </tr>\n    <tr>\n      <th>10</th>\n      <td>198</td>\n    </tr>\n    <tr>\n      <th>11</th>\n      <td>199</td>\n    </tr>\n    <tr>\n      <th>12</th>\n      <td>178</td>\n    </tr>\n    <tr>\n      <th>13</th>\n      <td>168</td>\n    </tr>\n    <tr>\n      <th>14</th>\n      <td>156</td>\n    </tr>\n    <tr>\n      <th>15</th>\n      <td>151</td>\n    </tr>\n    <tr>\n      <th>16</th>\n      <td>167</td>\n    </tr>\n    <tr>\n      <th>17</th>\n      <td>167</td>\n    </tr>\n  </tbody>\n</table>\n</div>"
     },
     "execution_count": 126,
     "metadata": {},
     "output_type": "execute_result"
    }
   ],
   "source": [
    "df = pd.read_csv('Wzrost.csv', header=None,)\n",
    "df = df.T\n",
    "df"
   ],
   "metadata": {
    "collapsed": false
   }
  },
  {
   "cell_type": "code",
   "execution_count": 127,
   "outputs": [],
   "source": [
    "column = df[0]"
   ],
   "metadata": {
    "collapsed": false
   }
  },
  {
   "cell_type": "code",
   "execution_count": 128,
   "outputs": [],
   "source": [
    "variance = statistics.variance(column)\n",
    "stdev = statistics.stdev(column)"
   ],
   "metadata": {
    "collapsed": false
   }
  },
  {
   "cell_type": "code",
   "execution_count": 129,
   "outputs": [
    {
     "name": "stdout",
     "output_type": "stream",
     "text": [
      "Wariancja: 269.6764705882353\n",
      "Odchylenie standardowe: 16.42182908777933\n"
     ]
    }
   ],
   "source": [
    "print(f'Wariancja: {variance}')\n",
    "print(f'Odchylenie standardowe: {stdev}')"
   ],
   "metadata": {
    "collapsed": false
   }
  },
  {
   "cell_type": "markdown",
   "source": [
    "### Zadanie 3"
   ],
   "metadata": {
    "collapsed": false
   }
  },
  {
   "cell_type": "code",
   "execution_count": 130,
   "outputs": [
    {
     "data": {
      "text/plain": "     mies   rok   pepsi  fanta   żywiec  okocim  regionalne    cola   lech\n0       1  2001  108447   43302  186385   54301       45065  227013  56306\n1       2  2001  105439   46711  168782   68131       43933  221115  67212\n2       3  2001  111675   36029  172186   63104       46663  222812  67398\n3       4  2001  113232   33659  172445   50871       45195  238631  57100\n4       5  2001  110274   40853  174526   67924       47926  222963  65001\n..    ...   ...     ...     ...     ...     ...         ...     ...    ...\n187     8  2016  105949   43017  169329   64262       58101  222531  58037\n188     9  2016  103420   44310  173923   67591       44565  230270  65156\n189    10  2016  120363   50688  175856   63791       51376  247155  59276\n190    11  2016  101215   41924  175914   62570       59505  240524  61765\n191    12  2016  114300   42314  178209   65923       58508  223129  68106\n\n[192 rows x 9 columns]",
      "text/html": "<div>\n<style scoped>\n    .dataframe tbody tr th:only-of-type {\n        vertical-align: middle;\n    }\n\n    .dataframe tbody tr th {\n        vertical-align: top;\n    }\n\n    .dataframe thead th {\n        text-align: right;\n    }\n</style>\n<table border=\"1\" class=\"dataframe\">\n  <thead>\n    <tr style=\"text-align: right;\">\n      <th></th>\n      <th>mies</th>\n      <th>rok</th>\n      <th>pepsi</th>\n      <th>fanta</th>\n      <th>żywiec</th>\n      <th>okocim</th>\n      <th>regionalne</th>\n      <th>cola</th>\n      <th>lech</th>\n    </tr>\n  </thead>\n  <tbody>\n    <tr>\n      <th>0</th>\n      <td>1</td>\n      <td>2001</td>\n      <td>108447</td>\n      <td>43302</td>\n      <td>186385</td>\n      <td>54301</td>\n      <td>45065</td>\n      <td>227013</td>\n      <td>56306</td>\n    </tr>\n    <tr>\n      <th>1</th>\n      <td>2</td>\n      <td>2001</td>\n      <td>105439</td>\n      <td>46711</td>\n      <td>168782</td>\n      <td>68131</td>\n      <td>43933</td>\n      <td>221115</td>\n      <td>67212</td>\n    </tr>\n    <tr>\n      <th>2</th>\n      <td>3</td>\n      <td>2001</td>\n      <td>111675</td>\n      <td>36029</td>\n      <td>172186</td>\n      <td>63104</td>\n      <td>46663</td>\n      <td>222812</td>\n      <td>67398</td>\n    </tr>\n    <tr>\n      <th>3</th>\n      <td>4</td>\n      <td>2001</td>\n      <td>113232</td>\n      <td>33659</td>\n      <td>172445</td>\n      <td>50871</td>\n      <td>45195</td>\n      <td>238631</td>\n      <td>57100</td>\n    </tr>\n    <tr>\n      <th>4</th>\n      <td>5</td>\n      <td>2001</td>\n      <td>110274</td>\n      <td>40853</td>\n      <td>174526</td>\n      <td>67924</td>\n      <td>47926</td>\n      <td>222963</td>\n      <td>65001</td>\n    </tr>\n    <tr>\n      <th>...</th>\n      <td>...</td>\n      <td>...</td>\n      <td>...</td>\n      <td>...</td>\n      <td>...</td>\n      <td>...</td>\n      <td>...</td>\n      <td>...</td>\n      <td>...</td>\n    </tr>\n    <tr>\n      <th>187</th>\n      <td>8</td>\n      <td>2016</td>\n      <td>105949</td>\n      <td>43017</td>\n      <td>169329</td>\n      <td>64262</td>\n      <td>58101</td>\n      <td>222531</td>\n      <td>58037</td>\n    </tr>\n    <tr>\n      <th>188</th>\n      <td>9</td>\n      <td>2016</td>\n      <td>103420</td>\n      <td>44310</td>\n      <td>173923</td>\n      <td>67591</td>\n      <td>44565</td>\n      <td>230270</td>\n      <td>65156</td>\n    </tr>\n    <tr>\n      <th>189</th>\n      <td>10</td>\n      <td>2016</td>\n      <td>120363</td>\n      <td>50688</td>\n      <td>175856</td>\n      <td>63791</td>\n      <td>51376</td>\n      <td>247155</td>\n      <td>59276</td>\n    </tr>\n    <tr>\n      <th>190</th>\n      <td>11</td>\n      <td>2016</td>\n      <td>101215</td>\n      <td>41924</td>\n      <td>175914</td>\n      <td>62570</td>\n      <td>59505</td>\n      <td>240524</td>\n      <td>61765</td>\n    </tr>\n    <tr>\n      <th>191</th>\n      <td>12</td>\n      <td>2016</td>\n      <td>114300</td>\n      <td>42314</td>\n      <td>178209</td>\n      <td>65923</td>\n      <td>58508</td>\n      <td>223129</td>\n      <td>68106</td>\n    </tr>\n  </tbody>\n</table>\n<p>192 rows × 9 columns</p>\n</div>"
     },
     "execution_count": 130,
     "metadata": {},
     "output_type": "execute_result"
    }
   ],
   "source": [
    "df = pd.read_csv('napoje.csv', sep=';')\n",
    "df"
   ],
   "metadata": {
    "collapsed": false
   }
  },
  {
   "cell_type": "code",
   "execution_count": 131,
   "outputs": [],
   "source": [
    "column = df['lech']"
   ],
   "metadata": {
    "collapsed": false
   }
  },
  {
   "cell_type": "code",
   "execution_count": 132,
   "outputs": [],
   "source": [
    "mean = stats.gmean(column)\n",
    "median = stats.median_abs_deviation(column)\n",
    "mode = stats.mode(column, keepdims=True)\n",
    "min_value = column.min()\n",
    "max_value = column.max()\n",
    "variance = stats.variation(column)\n"
   ],
   "metadata": {
    "collapsed": false
   }
  },
  {
   "cell_type": "code",
   "execution_count": 133,
   "outputs": [
    {
     "name": "stdout",
     "output_type": "stream",
     "text": [
      "Średnia: 60889.11580592612\n",
      "Mediana: 3775.5\n",
      "Moda: ModeResult(mode=array([60180], dtype=int64), count=array([2]))\n",
      "Minimum: 49331\n",
      "Maksimum: 75540\n",
      "Wariancja: 0.08124900091961071\n"
     ]
    }
   ],
   "source": [
    "print(f'Średnia: {mean}')\n",
    "print(f'Mediana: {median}')\n",
    "print(f'Moda: {mode}')\n",
    "print(f'Minimum: {min_value}')\n",
    "print(f'Maksimum: {max_value}')\n",
    "print(f'Wariancja: {variance}')"
   ],
   "metadata": {
    "collapsed": false
   }
  },
  {
   "cell_type": "code",
   "execution_count": 134,
   "outputs": [
    {
     "data": {
      "text/plain": "    Unnamed: 0  Gender  FSIQ  VIQ  PIQ Weight Height  MRI_Count\n0            1  Female   133  132  124    118   64.5     816932\n1            2    Male   140  150  124      .   72.5    1001121\n2            3    Male   139  123  150    143   73.3    1038437\n3            4    Male   133  129  128    172   68.8     965353\n4            5  Female   137  132  134    147   65.0     951545\n5            6  Female    99   90  110    146   69.0     928799\n6            7  Female   138  136  131    138   64.5     991305\n7            8  Female    92   90   98    175   66.0     854258\n8            9    Male    89   93   84    134   66.3     904858\n9           10    Male   133  114  147    172   68.8     955466\n10          11  Female   132  129  124    118   64.5     833868\n11          12    Male   141  150  128    151   70.0    1079549\n12          13    Male   135  129  124    155   69.0     924059\n13          14  Female   140  120  147    155   70.5     856472\n14          15  Female    96  100   90    146   66.0     878897\n15          16  Female    83   71   96    135   68.0     865363\n16          17  Female   132  132  120    127   68.5     852244\n17          18    Male   100   96  102    178   73.5     945088\n18          19  Female   101  112   84    136   66.3     808020\n19          20    Male    80   77   86    180   70.0     889083\n20          21    Male    83   83   86      .      .     892420\n21          22    Male    97  107   84    186   76.5     905940\n22          23  Female   135  129  134    122   62.0     790619\n23          24    Male   139  145  128    132   68.0     955003\n24          25  Female    91   86  102    114   63.0     831772\n25          26    Male   141  145  131    171   72.0     935494\n26          27  Female    85   90   84    140   68.0     798612\n27          28    Male   103   96  110    187   77.0    1062462\n28          29  Female    77   83   72    106   63.0     793549\n29          30  Female   130  126  124    159   66.5     866662\n30          31  Female   133  126  132    127   62.5     857782\n31          32    Male   144  145  137    191   67.0     949589\n32          33    Male   103   96  110    192   75.5     997925\n33          34    Male    90   96   86    181   69.0     879987\n34          35  Female    83   90   81    143   66.5     834344\n35          36  Female   133  129  128    153   66.5     948066\n36          37    Male   140  150  124    144   70.5     949395\n37          38  Female    88   86   94    139   64.5     893983\n38          39    Male    81   90   74    148   74.0     930016\n39          40    Male    89   91   89    179   75.5     935863",
      "text/html": "<div>\n<style scoped>\n    .dataframe tbody tr th:only-of-type {\n        vertical-align: middle;\n    }\n\n    .dataframe tbody tr th {\n        vertical-align: top;\n    }\n\n    .dataframe thead th {\n        text-align: right;\n    }\n</style>\n<table border=\"1\" class=\"dataframe\">\n  <thead>\n    <tr style=\"text-align: right;\">\n      <th></th>\n      <th>Unnamed: 0</th>\n      <th>Gender</th>\n      <th>FSIQ</th>\n      <th>VIQ</th>\n      <th>PIQ</th>\n      <th>Weight</th>\n      <th>Height</th>\n      <th>MRI_Count</th>\n    </tr>\n  </thead>\n  <tbody>\n    <tr>\n      <th>0</th>\n      <td>1</td>\n      <td>Female</td>\n      <td>133</td>\n      <td>132</td>\n      <td>124</td>\n      <td>118</td>\n      <td>64.5</td>\n      <td>816932</td>\n    </tr>\n    <tr>\n      <th>1</th>\n      <td>2</td>\n      <td>Male</td>\n      <td>140</td>\n      <td>150</td>\n      <td>124</td>\n      <td>.</td>\n      <td>72.5</td>\n      <td>1001121</td>\n    </tr>\n    <tr>\n      <th>2</th>\n      <td>3</td>\n      <td>Male</td>\n      <td>139</td>\n      <td>123</td>\n      <td>150</td>\n      <td>143</td>\n      <td>73.3</td>\n      <td>1038437</td>\n    </tr>\n    <tr>\n      <th>3</th>\n      <td>4</td>\n      <td>Male</td>\n      <td>133</td>\n      <td>129</td>\n      <td>128</td>\n      <td>172</td>\n      <td>68.8</td>\n      <td>965353</td>\n    </tr>\n    <tr>\n      <th>4</th>\n      <td>5</td>\n      <td>Female</td>\n      <td>137</td>\n      <td>132</td>\n      <td>134</td>\n      <td>147</td>\n      <td>65.0</td>\n      <td>951545</td>\n    </tr>\n    <tr>\n      <th>5</th>\n      <td>6</td>\n      <td>Female</td>\n      <td>99</td>\n      <td>90</td>\n      <td>110</td>\n      <td>146</td>\n      <td>69.0</td>\n      <td>928799</td>\n    </tr>\n    <tr>\n      <th>6</th>\n      <td>7</td>\n      <td>Female</td>\n      <td>138</td>\n      <td>136</td>\n      <td>131</td>\n      <td>138</td>\n      <td>64.5</td>\n      <td>991305</td>\n    </tr>\n    <tr>\n      <th>7</th>\n      <td>8</td>\n      <td>Female</td>\n      <td>92</td>\n      <td>90</td>\n      <td>98</td>\n      <td>175</td>\n      <td>66.0</td>\n      <td>854258</td>\n    </tr>\n    <tr>\n      <th>8</th>\n      <td>9</td>\n      <td>Male</td>\n      <td>89</td>\n      <td>93</td>\n      <td>84</td>\n      <td>134</td>\n      <td>66.3</td>\n      <td>904858</td>\n    </tr>\n    <tr>\n      <th>9</th>\n      <td>10</td>\n      <td>Male</td>\n      <td>133</td>\n      <td>114</td>\n      <td>147</td>\n      <td>172</td>\n      <td>68.8</td>\n      <td>955466</td>\n    </tr>\n    <tr>\n      <th>10</th>\n      <td>11</td>\n      <td>Female</td>\n      <td>132</td>\n      <td>129</td>\n      <td>124</td>\n      <td>118</td>\n      <td>64.5</td>\n      <td>833868</td>\n    </tr>\n    <tr>\n      <th>11</th>\n      <td>12</td>\n      <td>Male</td>\n      <td>141</td>\n      <td>150</td>\n      <td>128</td>\n      <td>151</td>\n      <td>70.0</td>\n      <td>1079549</td>\n    </tr>\n    <tr>\n      <th>12</th>\n      <td>13</td>\n      <td>Male</td>\n      <td>135</td>\n      <td>129</td>\n      <td>124</td>\n      <td>155</td>\n      <td>69.0</td>\n      <td>924059</td>\n    </tr>\n    <tr>\n      <th>13</th>\n      <td>14</td>\n      <td>Female</td>\n      <td>140</td>\n      <td>120</td>\n      <td>147</td>\n      <td>155</td>\n      <td>70.5</td>\n      <td>856472</td>\n    </tr>\n    <tr>\n      <th>14</th>\n      <td>15</td>\n      <td>Female</td>\n      <td>96</td>\n      <td>100</td>\n      <td>90</td>\n      <td>146</td>\n      <td>66.0</td>\n      <td>878897</td>\n    </tr>\n    <tr>\n      <th>15</th>\n      <td>16</td>\n      <td>Female</td>\n      <td>83</td>\n      <td>71</td>\n      <td>96</td>\n      <td>135</td>\n      <td>68.0</td>\n      <td>865363</td>\n    </tr>\n    <tr>\n      <th>16</th>\n      <td>17</td>\n      <td>Female</td>\n      <td>132</td>\n      <td>132</td>\n      <td>120</td>\n      <td>127</td>\n      <td>68.5</td>\n      <td>852244</td>\n    </tr>\n    <tr>\n      <th>17</th>\n      <td>18</td>\n      <td>Male</td>\n      <td>100</td>\n      <td>96</td>\n      <td>102</td>\n      <td>178</td>\n      <td>73.5</td>\n      <td>945088</td>\n    </tr>\n    <tr>\n      <th>18</th>\n      <td>19</td>\n      <td>Female</td>\n      <td>101</td>\n      <td>112</td>\n      <td>84</td>\n      <td>136</td>\n      <td>66.3</td>\n      <td>808020</td>\n    </tr>\n    <tr>\n      <th>19</th>\n      <td>20</td>\n      <td>Male</td>\n      <td>80</td>\n      <td>77</td>\n      <td>86</td>\n      <td>180</td>\n      <td>70.0</td>\n      <td>889083</td>\n    </tr>\n    <tr>\n      <th>20</th>\n      <td>21</td>\n      <td>Male</td>\n      <td>83</td>\n      <td>83</td>\n      <td>86</td>\n      <td>.</td>\n      <td>.</td>\n      <td>892420</td>\n    </tr>\n    <tr>\n      <th>21</th>\n      <td>22</td>\n      <td>Male</td>\n      <td>97</td>\n      <td>107</td>\n      <td>84</td>\n      <td>186</td>\n      <td>76.5</td>\n      <td>905940</td>\n    </tr>\n    <tr>\n      <th>22</th>\n      <td>23</td>\n      <td>Female</td>\n      <td>135</td>\n      <td>129</td>\n      <td>134</td>\n      <td>122</td>\n      <td>62.0</td>\n      <td>790619</td>\n    </tr>\n    <tr>\n      <th>23</th>\n      <td>24</td>\n      <td>Male</td>\n      <td>139</td>\n      <td>145</td>\n      <td>128</td>\n      <td>132</td>\n      <td>68.0</td>\n      <td>955003</td>\n    </tr>\n    <tr>\n      <th>24</th>\n      <td>25</td>\n      <td>Female</td>\n      <td>91</td>\n      <td>86</td>\n      <td>102</td>\n      <td>114</td>\n      <td>63.0</td>\n      <td>831772</td>\n    </tr>\n    <tr>\n      <th>25</th>\n      <td>26</td>\n      <td>Male</td>\n      <td>141</td>\n      <td>145</td>\n      <td>131</td>\n      <td>171</td>\n      <td>72.0</td>\n      <td>935494</td>\n    </tr>\n    <tr>\n      <th>26</th>\n      <td>27</td>\n      <td>Female</td>\n      <td>85</td>\n      <td>90</td>\n      <td>84</td>\n      <td>140</td>\n      <td>68.0</td>\n      <td>798612</td>\n    </tr>\n    <tr>\n      <th>27</th>\n      <td>28</td>\n      <td>Male</td>\n      <td>103</td>\n      <td>96</td>\n      <td>110</td>\n      <td>187</td>\n      <td>77.0</td>\n      <td>1062462</td>\n    </tr>\n    <tr>\n      <th>28</th>\n      <td>29</td>\n      <td>Female</td>\n      <td>77</td>\n      <td>83</td>\n      <td>72</td>\n      <td>106</td>\n      <td>63.0</td>\n      <td>793549</td>\n    </tr>\n    <tr>\n      <th>29</th>\n      <td>30</td>\n      <td>Female</td>\n      <td>130</td>\n      <td>126</td>\n      <td>124</td>\n      <td>159</td>\n      <td>66.5</td>\n      <td>866662</td>\n    </tr>\n    <tr>\n      <th>30</th>\n      <td>31</td>\n      <td>Female</td>\n      <td>133</td>\n      <td>126</td>\n      <td>132</td>\n      <td>127</td>\n      <td>62.5</td>\n      <td>857782</td>\n    </tr>\n    <tr>\n      <th>31</th>\n      <td>32</td>\n      <td>Male</td>\n      <td>144</td>\n      <td>145</td>\n      <td>137</td>\n      <td>191</td>\n      <td>67.0</td>\n      <td>949589</td>\n    </tr>\n    <tr>\n      <th>32</th>\n      <td>33</td>\n      <td>Male</td>\n      <td>103</td>\n      <td>96</td>\n      <td>110</td>\n      <td>192</td>\n      <td>75.5</td>\n      <td>997925</td>\n    </tr>\n    <tr>\n      <th>33</th>\n      <td>34</td>\n      <td>Male</td>\n      <td>90</td>\n      <td>96</td>\n      <td>86</td>\n      <td>181</td>\n      <td>69.0</td>\n      <td>879987</td>\n    </tr>\n    <tr>\n      <th>34</th>\n      <td>35</td>\n      <td>Female</td>\n      <td>83</td>\n      <td>90</td>\n      <td>81</td>\n      <td>143</td>\n      <td>66.5</td>\n      <td>834344</td>\n    </tr>\n    <tr>\n      <th>35</th>\n      <td>36</td>\n      <td>Female</td>\n      <td>133</td>\n      <td>129</td>\n      <td>128</td>\n      <td>153</td>\n      <td>66.5</td>\n      <td>948066</td>\n    </tr>\n    <tr>\n      <th>36</th>\n      <td>37</td>\n      <td>Male</td>\n      <td>140</td>\n      <td>150</td>\n      <td>124</td>\n      <td>144</td>\n      <td>70.5</td>\n      <td>949395</td>\n    </tr>\n    <tr>\n      <th>37</th>\n      <td>38</td>\n      <td>Female</td>\n      <td>88</td>\n      <td>86</td>\n      <td>94</td>\n      <td>139</td>\n      <td>64.5</td>\n      <td>893983</td>\n    </tr>\n    <tr>\n      <th>38</th>\n      <td>39</td>\n      <td>Male</td>\n      <td>81</td>\n      <td>90</td>\n      <td>74</td>\n      <td>148</td>\n      <td>74.0</td>\n      <td>930016</td>\n    </tr>\n    <tr>\n      <th>39</th>\n      <td>40</td>\n      <td>Male</td>\n      <td>89</td>\n      <td>91</td>\n      <td>89</td>\n      <td>179</td>\n      <td>75.5</td>\n      <td>935863</td>\n    </tr>\n  </tbody>\n</table>\n</div>"
     },
     "execution_count": 134,
     "metadata": {},
     "output_type": "execute_result"
    }
   ],
   "source": [
    "df = pd.read_csv('brain_size.csv',sep=';')\n",
    "\n",
    "df"
   ],
   "metadata": {
    "collapsed": false
   }
  },
  {
   "cell_type": "code",
   "execution_count": 135,
   "outputs": [
    {
     "name": "stdout",
     "output_type": "stream",
     "text": [
      "Średnia dla kolumny VIQ: 112.35\n",
      "Liczba mężczyzn: 20\n",
      "Liczba kobiet: 20\n"
     ]
    }
   ],
   "source": [
    "viq_mean = df['VIQ'].mean()\n",
    "print(f'Średnia dla kolumny VIQ: {viq_mean}')\n",
    "\n",
    "male_count = df[df['Gender'] == 'Male'].shape[0]\n",
    "female_count = df[df['Gender'] == 'Female'].shape[0]\n",
    "\n",
    "print(f'Liczba mężczyzn: {male_count}')\n",
    "print(f'Liczba kobiet: {female_count}')"
   ],
   "metadata": {
    "collapsed": false
   }
  },
  {
   "cell_type": "code",
   "execution_count": 136,
   "outputs": [
    {
     "data": {
      "text/plain": "<Figure size 640x480 with 4 Axes>",
      "image/png": "[encoded data removed]"
     },
     "metadata": {},
     "output_type": "display_data"
    }
   ],
   "source": [
    "female_df = df[df['Gender'] == 'Female']\n",
    "\n",
    "female_df.hist(column=['VIQ', 'PIQ', 'FSIQ'])\n",
    "plt.show()"
   ],
   "metadata": {
    "collapsed": false
   }
  },
  {
   "cell_type": "code",
   "execution_count": 136,
   "outputs": [],
   "source": [],
   "metadata": {
    "collapsed": false
   }
  }
 ],
 "metadata": {
  "kernelspec": {
   "display_name": "Python 3",
   "language": "python",
   "name": "python3"
  },
  "language_info": {
   "codemirror_mode": {
    "name": "ipython",
    "version": 2
   },
   "file_extension": ".py",
   "mimetype": "text/x-python",
   "name": "python",
   "nbconvert_exporter": "python",
   "pygments_lexer": "ipython2",
   "version": "2.7.6"
  }
 },
 "nbformat": 4,
 "nbformat_minor": 0
}
