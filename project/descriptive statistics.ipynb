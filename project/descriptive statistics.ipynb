{
 "cells": [
  {
   "cell_type": "code",
   "execution_count": 31,
   "metadata": {
    "collapsed": true
   },
   "outputs": [],
   "source": [
    "from const import URL_DATABASE\n",
    "from utils import create_engine\n",
    "import pandas as pd\n",
    "import statistics as stat"
   ]
  },
  {
   "cell_type": "code",
   "execution_count": 32,
   "outputs": [],
   "source": [
    "dbEngine = create_engine(URL_DATABASE)\n",
    "connection = dbEngine.connect()"
   ],
   "metadata": {
    "collapsed": false
   }
  },
  {
   "cell_type": "code",
   "execution_count": 33,
   "outputs": [
    {
     "data": {
      "text/plain": "            Data  Otwarcie  Najwyzszy  Najnizszy  Zamkniecie     Wolumen\n0     1991-04-16    100.00     100.00     100.00      100.00       325.0\n1     1991-04-23     95.70      95.70      95.70       95.70      5905.0\n2     1991-04-30     93.50      93.50      93.50       93.50      7162.0\n3     1991-05-14     92.90      92.90      92.90       92.90     18300.0\n4     1991-05-21     95.50      95.50      95.50       95.50     14750.0\n...          ...       ...        ...        ...         ...         ...\n7476  2022-12-22   1786.63    1796.05    1774.71     1780.07  10579489.0\n7477  2022-12-23   1778.58    1782.76    1769.41     1780.27   8034718.0\n7478  2022-12-27   1788.67    1792.82    1762.64     1765.87   6876220.0\n7479  2022-12-28   1764.30    1776.98    1757.71     1767.88  10436182.0\n7480  2022-12-29   1768.98    1802.20    1763.44     1802.20   8855182.0\n\n[7481 rows x 6 columns]",
      "text/html": "<div>\n<style scoped>\n    .dataframe tbody tr th:only-of-type {\n        vertical-align: middle;\n    }\n\n    .dataframe tbody tr th {\n        vertical-align: top;\n    }\n\n    .dataframe thead th {\n        text-align: right;\n    }\n</style>\n<table border=\"1\" class=\"dataframe\">\n  <thead>\n    <tr style=\"text-align: right;\">\n      <th></th>\n      <th>Data</th>\n      <th>Otwarcie</th>\n      <th>Najwyzszy</th>\n      <th>Najnizszy</th>\n      <th>Zamkniecie</th>\n      <th>Wolumen</th>\n    </tr>\n  </thead>\n  <tbody>\n    <tr>\n      <th>0</th>\n      <td>1991-04-16</td>\n      <td>100.00</td>\n      <td>100.00</td>\n      <td>100.00</td>\n      <td>100.00</td>\n      <td>325.0</td>\n    </tr>\n    <tr>\n      <th>1</th>\n      <td>1991-04-23</td>\n      <td>95.70</td>\n      <td>95.70</td>\n      <td>95.70</td>\n      <td>95.70</td>\n      <td>5905.0</td>\n    </tr>\n    <tr>\n      <th>2</th>\n      <td>1991-04-30</td>\n      <td>93.50</td>\n      <td>93.50</td>\n      <td>93.50</td>\n      <td>93.50</td>\n      <td>7162.0</td>\n    </tr>\n    <tr>\n      <th>3</th>\n      <td>1991-05-14</td>\n      <td>92.90</td>\n      <td>92.90</td>\n      <td>92.90</td>\n      <td>92.90</td>\n      <td>18300.0</td>\n    </tr>\n    <tr>\n      <th>4</th>\n      <td>1991-05-21</td>\n      <td>95.50</td>\n      <td>95.50</td>\n      <td>95.50</td>\n      <td>95.50</td>\n      <td>14750.0</td>\n    </tr>\n    <tr>\n      <th>...</th>\n      <td>...</td>\n      <td>...</td>\n      <td>...</td>\n      <td>...</td>\n      <td>...</td>\n      <td>...</td>\n    </tr>\n    <tr>\n      <th>7476</th>\n      <td>2022-12-22</td>\n      <td>1786.63</td>\n      <td>1796.05</td>\n      <td>1774.71</td>\n      <td>1780.07</td>\n      <td>10579489.0</td>\n    </tr>\n    <tr>\n      <th>7477</th>\n      <td>2022-12-23</td>\n      <td>1778.58</td>\n      <td>1782.76</td>\n      <td>1769.41</td>\n      <td>1780.27</td>\n      <td>8034718.0</td>\n    </tr>\n    <tr>\n      <th>7478</th>\n      <td>2022-12-27</td>\n      <td>1788.67</td>\n      <td>1792.82</td>\n      <td>1762.64</td>\n      <td>1765.87</td>\n      <td>6876220.0</td>\n    </tr>\n    <tr>\n      <th>7479</th>\n      <td>2022-12-28</td>\n      <td>1764.30</td>\n      <td>1776.98</td>\n      <td>1757.71</td>\n      <td>1767.88</td>\n      <td>10436182.0</td>\n    </tr>\n    <tr>\n      <th>7480</th>\n      <td>2022-12-29</td>\n      <td>1768.98</td>\n      <td>1802.20</td>\n      <td>1763.44</td>\n      <td>1802.20</td>\n      <td>8855182.0</td>\n    </tr>\n  </tbody>\n</table>\n<p>7481 rows × 6 columns</p>\n</div>"
     },
     "execution_count": 33,
     "metadata": {},
     "output_type": "execute_result"
    }
   ],
   "source": [
    "df = pd.read_sql_table('wig', connection)\n",
    "del df['index']\n",
    "df"
   ],
   "metadata": {
    "collapsed": false
   }
  },
  {
   "cell_type": "code",
   "execution_count": 34,
   "outputs": [
    {
     "data": {
      "text/plain": "          Otwarcie    Najwyzszy    Najnizszy   Zamkniecie       Wolumen\ncount  7481.000000  7481.000000  7481.000000  7481.000000  7.481000e+03\nmean   1926.376240  1940.807740  1910.549691  1925.925424  1.812409e+07\nstd     700.066105   705.633459   693.028201   699.453284  1.851046e+07\nmin      62.800000    62.800000    62.800000    62.800000  8.500000e+01\n25%    1478.730000  1491.190000  1466.340000  1481.100000  4.727511e+06\n50%    1948.660000  1966.720000  1931.520000  1951.050000  1.527287e+07\n75%    2368.730000  2384.840000  2351.810000  2367.840000  2.513949e+07\nmax    3935.470000  3940.530000  3910.960000  3917.870000  2.573333e+08",
      "text/html": "<div>\n<style scoped>\n    .dataframe tbody tr th:only-of-type {\n        vertical-align: middle;\n    }\n\n    .dataframe tbody tr th {\n        vertical-align: top;\n    }\n\n    .dataframe thead th {\n        text-align: right;\n    }\n</style>\n<table border=\"1\" class=\"dataframe\">\n  <thead>\n    <tr style=\"text-align: right;\">\n      <th></th>\n      <th>Otwarcie</th>\n      <th>Najwyzszy</th>\n      <th>Najnizszy</th>\n      <th>Zamkniecie</th>\n      <th>Wolumen</th>\n    </tr>\n  </thead>\n  <tbody>\n    <tr>\n      <th>count</th>\n      <td>7481.000000</td>\n      <td>7481.000000</td>\n      <td>7481.000000</td>\n      <td>7481.000000</td>\n      <td>7.481000e+03</td>\n    </tr>\n    <tr>\n      <th>mean</th>\n      <td>1926.376240</td>\n      <td>1940.807740</td>\n      <td>1910.549691</td>\n      <td>1925.925424</td>\n      <td>1.812409e+07</td>\n    </tr>\n    <tr>\n      <th>std</th>\n      <td>700.066105</td>\n      <td>705.633459</td>\n      <td>693.028201</td>\n      <td>699.453284</td>\n      <td>1.851046e+07</td>\n    </tr>\n    <tr>\n      <th>min</th>\n      <td>62.800000</td>\n      <td>62.800000</td>\n      <td>62.800000</td>\n      <td>62.800000</td>\n      <td>8.500000e+01</td>\n    </tr>\n    <tr>\n      <th>25%</th>\n      <td>1478.730000</td>\n      <td>1491.190000</td>\n      <td>1466.340000</td>\n      <td>1481.100000</td>\n      <td>4.727511e+06</td>\n    </tr>\n    <tr>\n      <th>50%</th>\n      <td>1948.660000</td>\n      <td>1966.720000</td>\n      <td>1931.520000</td>\n      <td>1951.050000</td>\n      <td>1.527287e+07</td>\n    </tr>\n    <tr>\n      <th>75%</th>\n      <td>2368.730000</td>\n      <td>2384.840000</td>\n      <td>2351.810000</td>\n      <td>2367.840000</td>\n      <td>2.513949e+07</td>\n    </tr>\n    <tr>\n      <th>max</th>\n      <td>3935.470000</td>\n      <td>3940.530000</td>\n      <td>3910.960000</td>\n      <td>3917.870000</td>\n      <td>2.573333e+08</td>\n    </tr>\n  </tbody>\n</table>\n</div>"
     },
     "execution_count": 34,
     "metadata": {},
     "output_type": "execute_result"
    }
   ],
   "source": [
    "df.describe()"
   ],
   "metadata": {
    "collapsed": false
   }
  },
  {
   "cell_type": "code",
   "execution_count": 35,
   "outputs": [
    {
     "name": "stdout",
     "output_type": "stream",
     "text": [
      "Średnia: 1926.3762398075123\n",
      "Mediana: 1948.66\n",
      "Minimum: 62.8\n",
      "Maksimum: 3935.47\n",
      "Wariancja: 490092.5515458724\n",
      "Odchylenie standardowe: 700.0661051257034\n"
     ]
    }
   ],
   "source": [
    "column = df['Otwarcie']\n",
    "mean = column.mean()\n",
    "median = column.median()\n",
    "min_value = column.min()\n",
    "max_value = column.max()\n",
    "variance = stat.variance(column)\n",
    "stdev = stat.stdev(column)\n",
    "\n",
    "print(f'Średnia: {mean}')\n",
    "print(f'Mediana: {median}')\n",
    "print(f'Minimum: {min_value}')\n",
    "print(f'Maksimum: {max_value}')\n",
    "print(f'Wariancja: {variance}')\n",
    "print(f'Odchylenie standardowe: {stdev}')"
   ],
   "metadata": {
    "collapsed": false
   }
  },
  {
   "cell_type": "code",
   "execution_count": 36,
   "outputs": [
    {
     "ename": "AttributeError",
     "evalue": "Can only use .dt accessor with datetimelike values",
     "output_type": "error",
     "traceback": [
      "\u001B[1;31m---------------------------------------------------------------------------\u001B[0m",
      "\u001B[1;31mAttributeError\u001B[0m                            Traceback (most recent call last)",
      "Cell \u001B[1;32mIn[36], line 5\u001B[0m\n\u001B[0;32m      2\u001B[0m     dt[\u001B[38;5;124m'\u001B[39m\u001B[38;5;124myear\u001B[39m\u001B[38;5;124m'\u001B[39m] \u001B[38;5;241m=\u001B[39m dt[\u001B[38;5;124m'\u001B[39m\u001B[38;5;124mData\u001B[39m\u001B[38;5;124m'\u001B[39m]\u001B[38;5;241m.\u001B[39mdt\u001B[38;5;241m.\u001B[39myear\n\u001B[0;32m      3\u001B[0m     \u001B[38;5;28;01mreturn\u001B[39;00m [dt[dt[\u001B[38;5;124m'\u001B[39m\u001B[38;5;124myear\u001B[39m\u001B[38;5;124m'\u001B[39m] \u001B[38;5;241m==\u001B[39m y] \u001B[38;5;28;01mfor\u001B[39;00m y \u001B[38;5;129;01min\u001B[39;00m dt[\u001B[38;5;124m'\u001B[39m\u001B[38;5;124myear\u001B[39m\u001B[38;5;124m'\u001B[39m]\u001B[38;5;241m.\u001B[39munique()]\n\u001B[1;32m----> 5\u001B[0m \u001B[43msplit_years\u001B[49m\u001B[43m(\u001B[49m\u001B[43mdf\u001B[49m\u001B[43m)\u001B[49m\n",
      "Cell \u001B[1;32mIn[36], line 2\u001B[0m, in \u001B[0;36msplit_years\u001B[1;34m(dt)\u001B[0m\n\u001B[0;32m      1\u001B[0m \u001B[38;5;28;01mdef\u001B[39;00m \u001B[38;5;21msplit_years\u001B[39m(dt):\n\u001B[1;32m----> 2\u001B[0m     dt[\u001B[38;5;124m'\u001B[39m\u001B[38;5;124myear\u001B[39m\u001B[38;5;124m'\u001B[39m] \u001B[38;5;241m=\u001B[39m \u001B[43mdt\u001B[49m\u001B[43m[\u001B[49m\u001B[38;5;124;43m'\u001B[39;49m\u001B[38;5;124;43mData\u001B[39;49m\u001B[38;5;124;43m'\u001B[39;49m\u001B[43m]\u001B[49m\u001B[38;5;241;43m.\u001B[39;49m\u001B[43mdt\u001B[49m\u001B[38;5;241m.\u001B[39myear\n\u001B[0;32m      3\u001B[0m     \u001B[38;5;28;01mreturn\u001B[39;00m [dt[dt[\u001B[38;5;124m'\u001B[39m\u001B[38;5;124myear\u001B[39m\u001B[38;5;124m'\u001B[39m] \u001B[38;5;241m==\u001B[39m y] \u001B[38;5;28;01mfor\u001B[39;00m y \u001B[38;5;129;01min\u001B[39;00m dt[\u001B[38;5;124m'\u001B[39m\u001B[38;5;124myear\u001B[39m\u001B[38;5;124m'\u001B[39m]\u001B[38;5;241m.\u001B[39munique()]\n",
      "File \u001B[1;32m~\\PycharmProjects\\venv\\BiS\\lib\\site-packages\\pandas\\core\\generic.py:5902\u001B[0m, in \u001B[0;36mNDFrame.__getattr__\u001B[1;34m(self, name)\u001B[0m\n\u001B[0;32m   5895\u001B[0m \u001B[38;5;28;01mif\u001B[39;00m (\n\u001B[0;32m   5896\u001B[0m     name \u001B[38;5;129;01mnot\u001B[39;00m \u001B[38;5;129;01min\u001B[39;00m \u001B[38;5;28mself\u001B[39m\u001B[38;5;241m.\u001B[39m_internal_names_set\n\u001B[0;32m   5897\u001B[0m     \u001B[38;5;129;01mand\u001B[39;00m name \u001B[38;5;129;01mnot\u001B[39;00m \u001B[38;5;129;01min\u001B[39;00m \u001B[38;5;28mself\u001B[39m\u001B[38;5;241m.\u001B[39m_metadata\n\u001B[0;32m   5898\u001B[0m     \u001B[38;5;129;01mand\u001B[39;00m name \u001B[38;5;129;01mnot\u001B[39;00m \u001B[38;5;129;01min\u001B[39;00m \u001B[38;5;28mself\u001B[39m\u001B[38;5;241m.\u001B[39m_accessors\n\u001B[0;32m   5899\u001B[0m     \u001B[38;5;129;01mand\u001B[39;00m \u001B[38;5;28mself\u001B[39m\u001B[38;5;241m.\u001B[39m_info_axis\u001B[38;5;241m.\u001B[39m_can_hold_identifiers_and_holds_name(name)\n\u001B[0;32m   5900\u001B[0m ):\n\u001B[0;32m   5901\u001B[0m     \u001B[38;5;28;01mreturn\u001B[39;00m \u001B[38;5;28mself\u001B[39m[name]\n\u001B[1;32m-> 5902\u001B[0m \u001B[38;5;28;01mreturn\u001B[39;00m \u001B[38;5;28;43mobject\u001B[39;49m\u001B[38;5;241;43m.\u001B[39;49m\u001B[38;5;21;43m__getattribute__\u001B[39;49m\u001B[43m(\u001B[49m\u001B[38;5;28;43mself\u001B[39;49m\u001B[43m,\u001B[49m\u001B[43m \u001B[49m\u001B[43mname\u001B[49m\u001B[43m)\u001B[49m\n",
      "File \u001B[1;32m~\\PycharmProjects\\venv\\BiS\\lib\\site-packages\\pandas\\core\\accessor.py:182\u001B[0m, in \u001B[0;36mCachedAccessor.__get__\u001B[1;34m(self, obj, cls)\u001B[0m\n\u001B[0;32m    179\u001B[0m \u001B[38;5;28;01mif\u001B[39;00m obj \u001B[38;5;129;01mis\u001B[39;00m \u001B[38;5;28;01mNone\u001B[39;00m:\n\u001B[0;32m    180\u001B[0m     \u001B[38;5;66;03m# we're accessing the attribute of the class, i.e., Dataset.geo\u001B[39;00m\n\u001B[0;32m    181\u001B[0m     \u001B[38;5;28;01mreturn\u001B[39;00m \u001B[38;5;28mself\u001B[39m\u001B[38;5;241m.\u001B[39m_accessor\n\u001B[1;32m--> 182\u001B[0m accessor_obj \u001B[38;5;241m=\u001B[39m \u001B[38;5;28;43mself\u001B[39;49m\u001B[38;5;241;43m.\u001B[39;49m\u001B[43m_accessor\u001B[49m\u001B[43m(\u001B[49m\u001B[43mobj\u001B[49m\u001B[43m)\u001B[49m\n\u001B[0;32m    183\u001B[0m \u001B[38;5;66;03m# Replace the property with the accessor object. Inspired by:\u001B[39;00m\n\u001B[0;32m    184\u001B[0m \u001B[38;5;66;03m# https://www.pydanny.com/cached-property.html\u001B[39;00m\n\u001B[0;32m    185\u001B[0m \u001B[38;5;66;03m# We need to use object.__setattr__ because we overwrite __setattr__ on\u001B[39;00m\n\u001B[0;32m    186\u001B[0m \u001B[38;5;66;03m# NDFrame\u001B[39;00m\n\u001B[0;32m    187\u001B[0m \u001B[38;5;28mobject\u001B[39m\u001B[38;5;241m.\u001B[39m\u001B[38;5;21m__setattr__\u001B[39m(obj, \u001B[38;5;28mself\u001B[39m\u001B[38;5;241m.\u001B[39m_name, accessor_obj)\n",
      "File \u001B[1;32m~\\PycharmProjects\\venv\\BiS\\lib\\site-packages\\pandas\\core\\indexes\\accessors.py:512\u001B[0m, in \u001B[0;36mCombinedDatetimelikeProperties.__new__\u001B[1;34m(cls, data)\u001B[0m\n\u001B[0;32m    509\u001B[0m \u001B[38;5;28;01melif\u001B[39;00m is_period_dtype(data\u001B[38;5;241m.\u001B[39mdtype):\n\u001B[0;32m    510\u001B[0m     \u001B[38;5;28;01mreturn\u001B[39;00m PeriodProperties(data, orig)\n\u001B[1;32m--> 512\u001B[0m \u001B[38;5;28;01mraise\u001B[39;00m \u001B[38;5;167;01mAttributeError\u001B[39;00m(\u001B[38;5;124m\"\u001B[39m\u001B[38;5;124mCan only use .dt accessor with datetimelike values\u001B[39m\u001B[38;5;124m\"\u001B[39m)\n",
      "\u001B[1;31mAttributeError\u001B[0m: Can only use .dt accessor with datetimelike values"
     ]
    }
   ],
   "source": [
    "\n",
    "def split_years(dt):\n",
    "    dt['year'] = dt['Data'].dt.year\n",
    "    return [dt[dt['year'] == y] for y in dt['year'].unique()]\n",
    "\n",
    "split_years(df)"
   ],
   "metadata": {
    "collapsed": false
   }
  }
 ],
 "metadata": {
  "kernelspec": {
   "display_name": "Python 3",
   "language": "python",
   "name": "python3"
  },
  "language_info": {
   "codemirror_mode": {
    "name": "ipython",
    "version": 2
   },
   "file_extension": ".py",
   "mimetype": "text/x-python",
   "name": "python",
   "nbconvert_exporter": "python",
   "pygments_lexer": "ipython2",
   "version": "2.7.6"
  }
 },
 "nbformat": 4,
 "nbformat_minor": 0
}
