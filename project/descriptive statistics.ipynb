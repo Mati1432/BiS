{
 "cells": [
  {
   "cell_type": "code",
   "execution_count": 1,
   "metadata": {
    "collapsed": true
   },
   "outputs": [],
   "source": [
    "import statistics as stat\n",
    "import pandas as pd\n",
    "from const import URL_DATABASE\n",
    "from utils import create_engine\n",
    "from utils import select_data"
   ]
  },
  {
   "cell_type": "code",
   "execution_count": 2,
   "outputs": [],
   "source": [
    "dbEngine = create_engine(URL_DATABASE)\n",
    "connection = dbEngine.connect()"
   ],
   "metadata": {
    "collapsed": false
   }
  },
  {
   "cell_type": "code",
   "execution_count": 3,
   "outputs": [
    {
     "data": {
      "text/plain": "            Data  Otwarcie  Najwyzszy  Najnizszy  Zamkniecie     Wolumen\n0     1991-04-16    100.00     100.00     100.00      100.00       325.0\n1     1991-04-23     95.70      95.70      95.70       95.70      5905.0\n2     1991-04-30     93.50      93.50      93.50       93.50      7162.0\n3     1991-05-14     92.90      92.90      92.90       92.90     18300.0\n4     1991-05-21     95.50      95.50      95.50       95.50     14750.0\n...          ...       ...        ...        ...         ...         ...\n7476  2022-12-22   1786.63    1796.05    1774.71     1780.07  10579489.0\n7477  2022-12-23   1778.58    1782.76    1769.41     1780.27   8034718.0\n7478  2022-12-27   1788.67    1792.82    1762.64     1765.87   6876220.0\n7479  2022-12-28   1764.30    1776.98    1757.71     1767.88  10436182.0\n7480  2022-12-29   1768.98    1802.20    1763.44     1802.20   8855182.0\n\n[7481 rows x 6 columns]",
      "text/html": "<div>\n<style scoped>\n    .dataframe tbody tr th:only-of-type {\n        vertical-align: middle;\n    }\n\n    .dataframe tbody tr th {\n        vertical-align: top;\n    }\n\n    .dataframe thead th {\n        text-align: right;\n    }\n</style>\n<table border=\"1\" class=\"dataframe\">\n  <thead>\n    <tr style=\"text-align: right;\">\n      <th></th>\n      <th>Data</th>\n      <th>Otwarcie</th>\n      <th>Najwyzszy</th>\n      <th>Najnizszy</th>\n      <th>Zamkniecie</th>\n      <th>Wolumen</th>\n    </tr>\n  </thead>\n  <tbody>\n    <tr>\n      <th>0</th>\n      <td>1991-04-16</td>\n      <td>100.00</td>\n      <td>100.00</td>\n      <td>100.00</td>\n      <td>100.00</td>\n      <td>325.0</td>\n    </tr>\n    <tr>\n      <th>1</th>\n      <td>1991-04-23</td>\n      <td>95.70</td>\n      <td>95.70</td>\n      <td>95.70</td>\n      <td>95.70</td>\n      <td>5905.0</td>\n    </tr>\n    <tr>\n      <th>2</th>\n      <td>1991-04-30</td>\n      <td>93.50</td>\n      <td>93.50</td>\n      <td>93.50</td>\n      <td>93.50</td>\n      <td>7162.0</td>\n    </tr>\n    <tr>\n      <th>3</th>\n      <td>1991-05-14</td>\n      <td>92.90</td>\n      <td>92.90</td>\n      <td>92.90</td>\n      <td>92.90</td>\n      <td>18300.0</td>\n    </tr>\n    <tr>\n      <th>4</th>\n      <td>1991-05-21</td>\n      <td>95.50</td>\n      <td>95.50</td>\n      <td>95.50</td>\n      <td>95.50</td>\n      <td>14750.0</td>\n    </tr>\n    <tr>\n      <th>...</th>\n      <td>...</td>\n      <td>...</td>\n      <td>...</td>\n      <td>...</td>\n      <td>...</td>\n      <td>...</td>\n    </tr>\n    <tr>\n      <th>7476</th>\n      <td>2022-12-22</td>\n      <td>1786.63</td>\n      <td>1796.05</td>\n      <td>1774.71</td>\n      <td>1780.07</td>\n      <td>10579489.0</td>\n    </tr>\n    <tr>\n      <th>7477</th>\n      <td>2022-12-23</td>\n      <td>1778.58</td>\n      <td>1782.76</td>\n      <td>1769.41</td>\n      <td>1780.27</td>\n      <td>8034718.0</td>\n    </tr>\n    <tr>\n      <th>7478</th>\n      <td>2022-12-27</td>\n      <td>1788.67</td>\n      <td>1792.82</td>\n      <td>1762.64</td>\n      <td>1765.87</td>\n      <td>6876220.0</td>\n    </tr>\n    <tr>\n      <th>7479</th>\n      <td>2022-12-28</td>\n      <td>1764.30</td>\n      <td>1776.98</td>\n      <td>1757.71</td>\n      <td>1767.88</td>\n      <td>10436182.0</td>\n    </tr>\n    <tr>\n      <th>7480</th>\n      <td>2022-12-29</td>\n      <td>1768.98</td>\n      <td>1802.20</td>\n      <td>1763.44</td>\n      <td>1802.20</td>\n      <td>8855182.0</td>\n    </tr>\n  </tbody>\n</table>\n<p>7481 rows × 6 columns</p>\n</div>"
     },
     "execution_count": 3,
     "metadata": {},
     "output_type": "execute_result"
    }
   ],
   "source": [
    "df = pd.read_sql_table('wig', connection)\n",
    "del df['index']\n",
    "df"
   ],
   "metadata": {
    "collapsed": false
   }
  },
  {
   "cell_type": "code",
   "execution_count": 4,
   "outputs": [
    {
     "data": {
      "text/plain": "          Otwarcie    Najwyzszy    Najnizszy   Zamkniecie       Wolumen\ncount  7481.000000  7481.000000  7481.000000  7481.000000  7.481000e+03\nmean   1926.376240  1940.807740  1910.549691  1925.925424  1.812409e+07\nstd     700.066105   705.633459   693.028201   699.453284  1.851046e+07\nmin      62.800000    62.800000    62.800000    62.800000  8.500000e+01\n25%    1478.730000  1491.190000  1466.340000  1481.100000  4.727511e+06\n50%    1948.660000  1966.720000  1931.520000  1951.050000  1.527287e+07\n75%    2368.730000  2384.840000  2351.810000  2367.840000  2.513949e+07\nmax    3935.470000  3940.530000  3910.960000  3917.870000  2.573333e+08",
      "text/html": "<div>\n<style scoped>\n    .dataframe tbody tr th:only-of-type {\n        vertical-align: middle;\n    }\n\n    .dataframe tbody tr th {\n        vertical-align: top;\n    }\n\n    .dataframe thead th {\n        text-align: right;\n    }\n</style>\n<table border=\"1\" class=\"dataframe\">\n  <thead>\n    <tr style=\"text-align: right;\">\n      <th></th>\n      <th>Otwarcie</th>\n      <th>Najwyzszy</th>\n      <th>Najnizszy</th>\n      <th>Zamkniecie</th>\n      <th>Wolumen</th>\n    </tr>\n  </thead>\n  <tbody>\n    <tr>\n      <th>count</th>\n      <td>7481.000000</td>\n      <td>7481.000000</td>\n      <td>7481.000000</td>\n      <td>7481.000000</td>\n      <td>7.481000e+03</td>\n    </tr>\n    <tr>\n      <th>mean</th>\n      <td>1926.376240</td>\n      <td>1940.807740</td>\n      <td>1910.549691</td>\n      <td>1925.925424</td>\n      <td>1.812409e+07</td>\n    </tr>\n    <tr>\n      <th>std</th>\n      <td>700.066105</td>\n      <td>705.633459</td>\n      <td>693.028201</td>\n      <td>699.453284</td>\n      <td>1.851046e+07</td>\n    </tr>\n    <tr>\n      <th>min</th>\n      <td>62.800000</td>\n      <td>62.800000</td>\n      <td>62.800000</td>\n      <td>62.800000</td>\n      <td>8.500000e+01</td>\n    </tr>\n    <tr>\n      <th>25%</th>\n      <td>1478.730000</td>\n      <td>1491.190000</td>\n      <td>1466.340000</td>\n      <td>1481.100000</td>\n      <td>4.727511e+06</td>\n    </tr>\n    <tr>\n      <th>50%</th>\n      <td>1948.660000</td>\n      <td>1966.720000</td>\n      <td>1931.520000</td>\n      <td>1951.050000</td>\n      <td>1.527287e+07</td>\n    </tr>\n    <tr>\n      <th>75%</th>\n      <td>2368.730000</td>\n      <td>2384.840000</td>\n      <td>2351.810000</td>\n      <td>2367.840000</td>\n      <td>2.513949e+07</td>\n    </tr>\n    <tr>\n      <th>max</th>\n      <td>3935.470000</td>\n      <td>3940.530000</td>\n      <td>3910.960000</td>\n      <td>3917.870000</td>\n      <td>2.573333e+08</td>\n    </tr>\n  </tbody>\n</table>\n</div>"
     },
     "execution_count": 4,
     "metadata": {},
     "output_type": "execute_result"
    }
   ],
   "source": [
    "df.describe()"
   ],
   "metadata": {
    "collapsed": false
   }
  },
  {
   "cell_type": "code",
   "execution_count": 5,
   "outputs": [
    {
     "name": "stdout",
     "output_type": "stream",
     "text": [
      "Wariancja: 490092.5515458724\n",
      "Odchylenie standardowe: 700.0661051257034\n",
      "skośność: -0.1318826424130502\n",
      "kurtoza: 0.4333803523831432\n"
     ]
    }
   ],
   "source": [
    "column = df['Otwarcie']\n",
    "skew = column.skew()\n",
    "variance = stat.variance(column)\n",
    "stdev = stat.stdev(column)\n",
    "kurtoza = column.kurt()\n",
    "# skośność kurtoza\n",
    "\n",
    "print(f'Wariancja: {variance}')\n",
    "print(f'Odchylenie standardowe: {stdev}')\n",
    "print(f'skośność: {skew}')\n",
    "print(f'kurtoza: {kurtoza}')"
   ],
   "metadata": {
    "collapsed": false
   }
  },
  {
   "cell_type": "code",
   "execution_count": 6,
   "outputs": [],
   "source": [
    "df['Data'] = pd.to_datetime(df['Data'])"
   ],
   "metadata": {
    "collapsed": false
   }
  },
  {
   "cell_type": "code",
   "execution_count": 7,
   "outputs": [
    {
     "name": "stdout",
     "output_type": "stream",
     "text": [
      "istnieje tabela o takim datasecie\n",
      "\n"
     ]
    }
   ],
   "source": [
    "df = select_data(df, connection, 2013, 1, 25, 2015, 3, 2, True)"
   ],
   "metadata": {
    "collapsed": false
   }
  },
  {
   "cell_type": "code",
   "execution_count": 8,
   "outputs": [
    {
     "data": {
      "text/plain": "           Data  Otwarcie  Najwyzszy  Najnizszy  Zamkniecie     Wolumen\n5003 2013-01-28   2534.40    2539.89    2511.50     2521.50  28120036.0\n5004 2013-01-29   2525.08    2525.22    2503.97     2524.36  33039711.0\n5005 2013-01-30   2501.65    2524.19    2490.37     2496.15  48904076.0\n5006 2013-01-31   2499.00    2503.27    2480.56     2492.76  57208587.0\n5007 2013-02-01   2497.28    2507.45    2493.77     2499.19  43498500.0\n...         ...       ...        ...        ...         ...         ...\n5516 2015-02-23   2359.47    2365.58    2354.46     2365.58  19071003.0\n5517 2015-02-24   2364.12    2366.27    2346.30     2363.61  21829065.0\n5518 2015-02-25   2366.87    2369.24    2350.07     2354.65  17863397.0\n5519 2015-02-26   2350.47    2361.01    2345.31     2361.01  19126926.0\n5520 2015-02-27   2361.45    2368.58    2355.17     2367.10  29220424.0\n\n[518 rows x 6 columns]",
      "text/html": "<div>\n<style scoped>\n    .dataframe tbody tr th:only-of-type {\n        vertical-align: middle;\n    }\n\n    .dataframe tbody tr th {\n        vertical-align: top;\n    }\n\n    .dataframe thead th {\n        text-align: right;\n    }\n</style>\n<table border=\"1\" class=\"dataframe\">\n  <thead>\n    <tr style=\"text-align: right;\">\n      <th></th>\n      <th>Data</th>\n      <th>Otwarcie</th>\n      <th>Najwyzszy</th>\n      <th>Najnizszy</th>\n      <th>Zamkniecie</th>\n      <th>Wolumen</th>\n    </tr>\n  </thead>\n  <tbody>\n    <tr>\n      <th>5003</th>\n      <td>2013-01-28</td>\n      <td>2534.40</td>\n      <td>2539.89</td>\n      <td>2511.50</td>\n      <td>2521.50</td>\n      <td>28120036.0</td>\n    </tr>\n    <tr>\n      <th>5004</th>\n      <td>2013-01-29</td>\n      <td>2525.08</td>\n      <td>2525.22</td>\n      <td>2503.97</td>\n      <td>2524.36</td>\n      <td>33039711.0</td>\n    </tr>\n    <tr>\n      <th>5005</th>\n      <td>2013-01-30</td>\n      <td>2501.65</td>\n      <td>2524.19</td>\n      <td>2490.37</td>\n      <td>2496.15</td>\n      <td>48904076.0</td>\n    </tr>\n    <tr>\n      <th>5006</th>\n      <td>2013-01-31</td>\n      <td>2499.00</td>\n      <td>2503.27</td>\n      <td>2480.56</td>\n      <td>2492.76</td>\n      <td>57208587.0</td>\n    </tr>\n    <tr>\n      <th>5007</th>\n      <td>2013-02-01</td>\n      <td>2497.28</td>\n      <td>2507.45</td>\n      <td>2493.77</td>\n      <td>2499.19</td>\n      <td>43498500.0</td>\n    </tr>\n    <tr>\n      <th>...</th>\n      <td>...</td>\n      <td>...</td>\n      <td>...</td>\n      <td>...</td>\n      <td>...</td>\n      <td>...</td>\n    </tr>\n    <tr>\n      <th>5516</th>\n      <td>2015-02-23</td>\n      <td>2359.47</td>\n      <td>2365.58</td>\n      <td>2354.46</td>\n      <td>2365.58</td>\n      <td>19071003.0</td>\n    </tr>\n    <tr>\n      <th>5517</th>\n      <td>2015-02-24</td>\n      <td>2364.12</td>\n      <td>2366.27</td>\n      <td>2346.30</td>\n      <td>2363.61</td>\n      <td>21829065.0</td>\n    </tr>\n    <tr>\n      <th>5518</th>\n      <td>2015-02-25</td>\n      <td>2366.87</td>\n      <td>2369.24</td>\n      <td>2350.07</td>\n      <td>2354.65</td>\n      <td>17863397.0</td>\n    </tr>\n    <tr>\n      <th>5519</th>\n      <td>2015-02-26</td>\n      <td>2350.47</td>\n      <td>2361.01</td>\n      <td>2345.31</td>\n      <td>2361.01</td>\n      <td>19126926.0</td>\n    </tr>\n    <tr>\n      <th>5520</th>\n      <td>2015-02-27</td>\n      <td>2361.45</td>\n      <td>2368.58</td>\n      <td>2355.17</td>\n      <td>2367.10</td>\n      <td>29220424.0</td>\n    </tr>\n  </tbody>\n</table>\n<p>518 rows × 6 columns</p>\n</div>"
     },
     "execution_count": 8,
     "metadata": {},
     "output_type": "execute_result"
    }
   ],
   "source": [
    "df"
   ],
   "metadata": {
    "collapsed": false
   }
  },
  {
   "cell_type": "code",
   "execution_count": 9,
   "outputs": [
    {
     "data": {
      "text/plain": "          Otwarcie    Najwyzszy    Najnizszy   Zamkniecie       Wolumen\ncount   518.000000   518.000000   518.000000   518.000000  5.180000e+02\nmean   2411.935232  2425.585560  2395.498359  2410.307355  2.623053e+07\nstd      74.699297    73.444517    77.057390    75.157293  2.134439e+07\nmin    2182.290000  2237.850000  2150.820000  2177.020000  6.488816e+06\n25%    2360.962500  2376.200000  2344.852500  2361.127500  1.649353e+07\n50%    2413.295000  2425.540000  2399.535000  2411.090000  2.072130e+07\n75%    2460.577500  2475.552500  2450.140000  2463.370000  2.841911e+07\nmax    2619.940000  2625.830000  2597.670000  2622.250000  1.908256e+08",
      "text/html": "<div>\n<style scoped>\n    .dataframe tbody tr th:only-of-type {\n        vertical-align: middle;\n    }\n\n    .dataframe tbody tr th {\n        vertical-align: top;\n    }\n\n    .dataframe thead th {\n        text-align: right;\n    }\n</style>\n<table border=\"1\" class=\"dataframe\">\n  <thead>\n    <tr style=\"text-align: right;\">\n      <th></th>\n      <th>Otwarcie</th>\n      <th>Najwyzszy</th>\n      <th>Najnizszy</th>\n      <th>Zamkniecie</th>\n      <th>Wolumen</th>\n    </tr>\n  </thead>\n  <tbody>\n    <tr>\n      <th>count</th>\n      <td>518.000000</td>\n      <td>518.000000</td>\n      <td>518.000000</td>\n      <td>518.000000</td>\n      <td>5.180000e+02</td>\n    </tr>\n    <tr>\n      <th>mean</th>\n      <td>2411.935232</td>\n      <td>2425.585560</td>\n      <td>2395.498359</td>\n      <td>2410.307355</td>\n      <td>2.623053e+07</td>\n    </tr>\n    <tr>\n      <th>std</th>\n      <td>74.699297</td>\n      <td>73.444517</td>\n      <td>77.057390</td>\n      <td>75.157293</td>\n      <td>2.134439e+07</td>\n    </tr>\n    <tr>\n      <th>min</th>\n      <td>2182.290000</td>\n      <td>2237.850000</td>\n      <td>2150.820000</td>\n      <td>2177.020000</td>\n      <td>6.488816e+06</td>\n    </tr>\n    <tr>\n      <th>25%</th>\n      <td>2360.962500</td>\n      <td>2376.200000</td>\n      <td>2344.852500</td>\n      <td>2361.127500</td>\n      <td>1.649353e+07</td>\n    </tr>\n    <tr>\n      <th>50%</th>\n      <td>2413.295000</td>\n      <td>2425.540000</td>\n      <td>2399.535000</td>\n      <td>2411.090000</td>\n      <td>2.072130e+07</td>\n    </tr>\n    <tr>\n      <th>75%</th>\n      <td>2460.577500</td>\n      <td>2475.552500</td>\n      <td>2450.140000</td>\n      <td>2463.370000</td>\n      <td>2.841911e+07</td>\n    </tr>\n    <tr>\n      <th>max</th>\n      <td>2619.940000</td>\n      <td>2625.830000</td>\n      <td>2597.670000</td>\n      <td>2622.250000</td>\n      <td>1.908256e+08</td>\n    </tr>\n  </tbody>\n</table>\n</div>"
     },
     "execution_count": 9,
     "metadata": {},
     "output_type": "execute_result"
    }
   ],
   "source": [
    "df.describe()"
   ],
   "metadata": {
    "collapsed": false
   }
  },
  {
   "cell_type": "code",
   "execution_count": 10,
   "outputs": [
    {
     "name": "stdout",
     "output_type": "stream",
     "text": [
      "Wariancja: 5579.98498050716\n",
      "Odchylenie standardowe: 74.69929705497341\n",
      "skośność: -0.11488547157276441\n",
      "kurtoza: 0.028773009330585353\n"
     ]
    }
   ],
   "source": [
    "column = df['Otwarcie']\n",
    "skew = column.skew()\n",
    "variance = stat.variance(column)\n",
    "stdev = stat.stdev(column)\n",
    "kurtoza = column.kurt()\n",
    "# skośność kurtoza\n",
    "\n",
    "print(f'Wariancja: {variance}')\n",
    "print(f'Odchylenie standardowe: {stdev}')\n",
    "print(f'skośność: {skew}')\n",
    "print(f'kurtoza: {kurtoza}')"
   ],
   "metadata": {
    "collapsed": false
   }
  }
 ],
 "metadata": {
  "kernelspec": {
   "display_name": "Python 3",
   "language": "python",
   "name": "python3"
  },
  "language_info": {
   "codemirror_mode": {
    "name": "ipython",
    "version": 2
   },
   "file_extension": ".py",
   "mimetype": "text/x-python",
   "name": "python",
   "nbconvert_exporter": "python",
   "pygments_lexer": "ipython2",
   "version": "2.7.6"
  }
 },
 "nbformat": 4,
 "nbformat_minor": 0
}
