{
 "cells": [
  {
   "cell_type": "code",
   "execution_count": 6,
   "outputs": [],
   "source": [
    "import pandas as pd\n",
    "from const import URL_DATABASE\n",
    "from utils import create_engine\n",
    "from scipy.stats import ttest_rel\n",
    "from scipy.stats import ttest_ind\n",
    "from scipy.stats import f_oneway\n",
    "from scipy.stats import shapiro\n",
    "from utils import add_split_date"
   ],
   "metadata": {
    "collapsed": false
   }
  },
  {
   "cell_type": "code",
   "execution_count": 7,
   "outputs": [],
   "source": [
    "dbEngine = create_engine(URL_DATABASE)\n",
    "connection = dbEngine.connect()"
   ],
   "metadata": {
    "collapsed": false
   }
  },
  {
   "cell_type": "code",
   "execution_count": 8,
   "outputs": [
    {
     "data": {
      "text/plain": "           Data  Otwarcie  Najwyzszy  Najnizszy  Zamkniecie     Wolumen  year  \\\n0    1991-04-16    100.00     100.00     100.00      100.00       325.0  1991   \n1    1991-04-23     95.70      95.70      95.70       95.70      5905.0  1991   \n2    1991-04-30     93.50      93.50      93.50       93.50      7162.0  1991   \n3    1991-05-14     92.90      92.90      92.90       92.90     18300.0  1991   \n4    1991-05-21     95.50      95.50      95.50       95.50     14750.0  1991   \n...         ...       ...        ...        ...         ...         ...   ...   \n7476 2022-12-22   1786.63    1796.05    1774.71     1780.07  10579489.0  2022   \n7477 2022-12-23   1778.58    1782.76    1769.41     1780.27   8034718.0  2022   \n7478 2022-12-27   1788.67    1792.82    1762.64     1765.87   6876220.0  2022   \n7479 2022-12-28   1764.30    1776.98    1757.71     1767.88  10436182.0  2022   \n7480 2022-12-29   1768.98    1802.20    1763.44     1802.20   8855182.0  2022   \n\n      month  day  \n0         4   16  \n1         4   23  \n2         4   30  \n3         5   14  \n4         5   21  \n...     ...  ...  \n7476     12   22  \n7477     12   23  \n7478     12   27  \n7479     12   28  \n7480     12   29  \n\n[7481 rows x 9 columns]",
      "text/html": "<div>\n<style scoped>\n    .dataframe tbody tr th:only-of-type {\n        vertical-align: middle;\n    }\n\n    .dataframe tbody tr th {\n        vertical-align: top;\n    }\n\n    .dataframe thead th {\n        text-align: right;\n    }\n</style>\n<table border=\"1\" class=\"dataframe\">\n  <thead>\n    <tr style=\"text-align: right;\">\n      <th></th>\n      <th>Data</th>\n      <th>Otwarcie</th>\n      <th>Najwyzszy</th>\n      <th>Najnizszy</th>\n      <th>Zamkniecie</th>\n      <th>Wolumen</th>\n      <th>year</th>\n      <th>month</th>\n      <th>day</th>\n    </tr>\n  </thead>\n  <tbody>\n    <tr>\n      <th>0</th>\n      <td>1991-04-16</td>\n      <td>100.00</td>\n      <td>100.00</td>\n      <td>100.00</td>\n      <td>100.00</td>\n      <td>325.0</td>\n      <td>1991</td>\n      <td>4</td>\n      <td>16</td>\n    </tr>\n    <tr>\n      <th>1</th>\n      <td>1991-04-23</td>\n      <td>95.70</td>\n      <td>95.70</td>\n      <td>95.70</td>\n      <td>95.70</td>\n      <td>5905.0</td>\n      <td>1991</td>\n      <td>4</td>\n      <td>23</td>\n    </tr>\n    <tr>\n      <th>2</th>\n      <td>1991-04-30</td>\n      <td>93.50</td>\n      <td>93.50</td>\n      <td>93.50</td>\n      <td>93.50</td>\n      <td>7162.0</td>\n      <td>1991</td>\n      <td>4</td>\n      <td>30</td>\n    </tr>\n    <tr>\n      <th>3</th>\n      <td>1991-05-14</td>\n      <td>92.90</td>\n      <td>92.90</td>\n      <td>92.90</td>\n      <td>92.90</td>\n      <td>18300.0</td>\n      <td>1991</td>\n      <td>5</td>\n      <td>14</td>\n    </tr>\n    <tr>\n      <th>4</th>\n      <td>1991-05-21</td>\n      <td>95.50</td>\n      <td>95.50</td>\n      <td>95.50</td>\n      <td>95.50</td>\n      <td>14750.0</td>\n      <td>1991</td>\n      <td>5</td>\n      <td>21</td>\n    </tr>\n    <tr>\n      <th>...</th>\n      <td>...</td>\n      <td>...</td>\n      <td>...</td>\n      <td>...</td>\n      <td>...</td>\n      <td>...</td>\n      <td>...</td>\n      <td>...</td>\n      <td>...</td>\n    </tr>\n    <tr>\n      <th>7476</th>\n      <td>2022-12-22</td>\n      <td>1786.63</td>\n      <td>1796.05</td>\n      <td>1774.71</td>\n      <td>1780.07</td>\n      <td>10579489.0</td>\n      <td>2022</td>\n      <td>12</td>\n      <td>22</td>\n    </tr>\n    <tr>\n      <th>7477</th>\n      <td>2022-12-23</td>\n      <td>1778.58</td>\n      <td>1782.76</td>\n      <td>1769.41</td>\n      <td>1780.27</td>\n      <td>8034718.0</td>\n      <td>2022</td>\n      <td>12</td>\n      <td>23</td>\n    </tr>\n    <tr>\n      <th>7478</th>\n      <td>2022-12-27</td>\n      <td>1788.67</td>\n      <td>1792.82</td>\n      <td>1762.64</td>\n      <td>1765.87</td>\n      <td>6876220.0</td>\n      <td>2022</td>\n      <td>12</td>\n      <td>27</td>\n    </tr>\n    <tr>\n      <th>7479</th>\n      <td>2022-12-28</td>\n      <td>1764.30</td>\n      <td>1776.98</td>\n      <td>1757.71</td>\n      <td>1767.88</td>\n      <td>10436182.0</td>\n      <td>2022</td>\n      <td>12</td>\n      <td>28</td>\n    </tr>\n    <tr>\n      <th>7480</th>\n      <td>2022-12-29</td>\n      <td>1768.98</td>\n      <td>1802.20</td>\n      <td>1763.44</td>\n      <td>1802.20</td>\n      <td>8855182.0</td>\n      <td>2022</td>\n      <td>12</td>\n      <td>29</td>\n    </tr>\n  </tbody>\n</table>\n<p>7481 rows × 9 columns</p>\n</div>"
     },
     "execution_count": 8,
     "metadata": {},
     "output_type": "execute_result"
    }
   ],
   "source": [
    "df = pd.read_sql_table('wig', connection)\n",
    "del df['index']\n",
    "add_split_date(df)\n",
    "df"
   ],
   "metadata": {
    "collapsed": false
   }
  },
  {
   "cell_type": "code",
   "execution_count": 9,
   "outputs": [
    {
     "data": {
      "text/plain": "<Figure size 640x480 with 1 Axes>",
      "image/png": "[encoded data removed]"
     },
     "metadata": {},
     "output_type": "display_data"
    }
   ],
   "source": [
    "from matplotlib import pyplot as plt\n",
    "\n",
    "# Hipoteza\n",
    "# wraz z kolejnymi latami zwiększa się liczba sprzedawanych wolumenów\n",
    "\n",
    "mean_wolumen = df.groupby(['year'], as_index=False).agg({'Wolumen':['mean']}).round(2)\n",
    "\n",
    "plt.plot(mean_wolumen['year'], mean_wolumen['Wolumen'])\n",
    "plt.show()\n"
   ],
   "metadata": {
    "collapsed": false
   }
  },
  {
   "cell_type": "code",
   "execution_count": 10,
   "outputs": [
    {
     "name": "stdout",
     "output_type": "stream",
     "text": [
      "Dane nie pochodzą z rozkładu normalnego\n"
     ]
    },
    {
     "name": "stderr",
     "output_type": "stream",
     "text": [
      "C:\\Users\\Mateusz\\PycharmProjects\\venv\\BiS\\lib\\site-packages\\scipy\\stats\\_morestats.py:1800: UserWarning: p-value may not be accurate for N > 5000.\n",
      "  warnings.warn(\"p-value may not be accurate for N > 5000.\")\n"
     ]
    }
   ],
   "source": [
    "stat1, p1 = shapiro(df['Wolumen'])\n",
    "stat2, p2 = shapiro(df['Otwarcie'])\n",
    "stat3, p3 = shapiro(df['year'])\n",
    "\n",
    "if p1 > 0.05 and p2 > 0.05 and p3 > 0.05:\n",
    "    print('Dane pochodzą z rozkładu normalnego')\n",
    "else:\n",
    "    print('Dane nie pochodzą z rozkładu normalnego')"
   ],
   "metadata": {
    "collapsed": false
   }
  },
  {
   "cell_type": "markdown",
   "source": [
    "### test dla zmiennych zależnych"
   ],
   "metadata": {
    "collapsed": false
   }
  },
  {
   "cell_type": "code",
   "execution_count": 11,
   "outputs": [
    {
     "name": "stdout",
     "output_type": "stream",
     "text": [
      "0.0\n",
      "Różnice są istotne statystycznie\n"
     ]
    }
   ],
   "source": [
    "stat, p = ttest_rel(df['year'], df['Wolumen'])\n",
    "\n",
    "# Jeśli p-wartość jest mniejsza niż 0,05, można uznać, że różnice są istotne statystycznie\n",
    "print(p)\n",
    "if p < 0.05:\n",
    "    print('Różnice są istotne statystycznie')\n",
    "else:\n",
    "    print('Różnice nie są istotne statystycznie')\n",
    "\n"
   ],
   "metadata": {
    "collapsed": false
   }
  },
  {
   "cell_type": "code",
   "execution_count": 12,
   "outputs": [
    {
     "name": "stdout",
     "output_type": "stream",
     "text": [
      "0.12007149978527402\n",
      "Różnice nie są istotne statystycznie\n"
     ]
    }
   ],
   "source": [
    "stat, p = ttest_rel(df['Otwarcie'], df['Zamkniecie'])\n",
    "print(p)\n",
    "if p < 0.05:\n",
    "    print('Różnice są istotne statystycznie')\n",
    "else:\n",
    "    print('Różnice nie są istotne statystycznie')"
   ],
   "metadata": {
    "collapsed": false
   }
  },
  {
   "cell_type": "markdown",
   "source": [
    "### test dla zmiennych niezależnych"
   ],
   "metadata": {
    "collapsed": false
   }
  },
  {
   "cell_type": "code",
   "execution_count": 13,
   "outputs": [
    {
     "name": "stdout",
     "output_type": "stream",
     "text": [
      "0.0\n",
      "Różnice są istotne statystycznie\n"
     ]
    }
   ],
   "source": [
    "stat, p = ttest_ind(df['year'], df['Wolumen'])\n",
    "print(p)\n",
    "if p < 0.05:\n",
    "    print('Różnice są istotne statystycznie')\n",
    "else:\n",
    "    print('Różnice nie są istotne statystycznie')"
   ],
   "metadata": {
    "collapsed": false
   }
  },
  {
   "cell_type": "code",
   "execution_count": 14,
   "outputs": [
    {
     "name": "stdout",
     "output_type": "stream",
     "text": [
      "0.008151214115062198\n",
      "Różnice są istotne statystycznie\n"
     ]
    }
   ],
   "source": [
    "stat, p = ttest_ind(df['Najnizszy'], df['Najwyzszy'])\n",
    "print(p)\n",
    "if p < 0.05:\n",
    "    print('Różnice są istotne statystycznie')\n",
    "else:\n",
    "    print('Różnice nie są istotne statystycznie')"
   ],
   "metadata": {
    "collapsed": false
   }
  },
  {
   "cell_type": "markdown",
   "source": [
    "### ANOVA"
   ],
   "metadata": {
    "collapsed": false
   }
  },
  {
   "cell_type": "code",
   "execution_count": 15,
   "outputs": [
    {
     "name": "stdout",
     "output_type": "stream",
     "text": [
      "0.0\n",
      "Różnice są istotne statystycznie\n"
     ]
    }
   ],
   "source": [
    "stat, p = f_oneway(df['Otwarcie'], df['Zamkniecie'], df['year'], df['Wolumen'])\n",
    "print(p)\n",
    "if p < 0.05:\n",
    "    print('Różnice są istotne statystycznie')\n",
    "else:\n",
    "    print('Różnice nie są istotne statystycznie')"
   ],
   "metadata": {
    "collapsed": false
   }
  }
 ],
 "metadata": {
  "kernelspec": {
   "display_name": "Python 3",
   "language": "python",
   "name": "python3"
  },
  "language_info": {
   "codemirror_mode": {
    "name": "ipython",
    "version": 2
   },
   "file_extension": ".py",
   "mimetype": "text/x-python",
   "name": "python",
   "nbconvert_exporter": "python",
   "pygments_lexer": "ipython2",
   "version": "2.7.6"
  }
 },
 "nbformat": 4,
 "nbformat_minor": 0
}
